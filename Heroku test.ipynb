{
 "cells": [
  {
   "cell_type": "markdown",
   "metadata": {},
   "source": [
    "## Test App in Heroku"
   ]
  },
  {
   "cell_type": "code",
   "execution_count": 6,
   "metadata": {},
   "outputs": [
    {
     "data": {
      "text/plain": [
       "'\"\\\\n{\\\\\"artist_name\\\\\":\\\\\"YG\\\\\",\\\\\"track_id\\\\\":\\\\\"2RM4jf1Xa9zPgMGRDiht8O\\\\\",\\\\n\\\\\"track_name\\\\\":\\\\\"Big Bank feat. 2 Chainz, Big Sean,Nicki Minaj\\\\\",\\\\n\\\\\"acousticness\\\\\":0.00582,\\\\\"danceability\\\\\":0.743,\\\\\"duration_ms\\\\\":238373,\\\\n\\\\\"energy\\\\\":0.339,\\\\\"instrumentalness\\\\\":0.0,\\\\\"key\\\\\":1,\\\\\"liveness\\\\\":0.0812,\\\\n\\\\\"loudness\\\\\":-7.678,\\\\\"mode\\\\\":1,\\\\\"speechiness\\\\\":0.409,\\\\\"tempo\\\\\":203.927,\\\\n\\\\\"time_signature\\\\\":4,\\\\\"valence\\\\\":0.118,\\\\\"popularity\\\\\":15}\\\\n\"'"
      ]
     },
     "execution_count": 6,
     "metadata": {},
     "output_type": "execute_result"
    }
   ],
   "source": [
    "import json\n",
    "# heroku url\n",
    "heroku_url = 'https://spotify-flask-model.herokuapp.com/' # change to your app name\n",
    "\n",
    "# test data\n",
    "data = \"\"\"\n",
    "{\"artist_name\":\"YG\",\"track_id\":\"2RM4jf1Xa9zPgMGRDiht8O\",\n",
    "\"track_name\":\"Big Bank feat. 2 Chainz, Big Sean,Nicki Minaj\",\n",
    "\"acousticness\":0.00582,\"danceability\":0.743,\"duration_ms\":238373,\n",
    "\"energy\":0.339,\"instrumentalness\":0.0,\"key\":1,\"liveness\":0.0812,\n",
    "\"loudness\":-7.678,\"mode\":1,\"speechiness\":0.409,\"tempo\":203.927,\n",
    "\"time_signature\":4,\"valence\":0.118,\"popularity\":15}\n",
    "\"\"\"\n",
    "\n",
    "data = json.dumps(data)\n",
    "data"
   ]
  },
  {
   "cell_type": "code",
   "execution_count": 7,
   "metadata": {},
   "outputs": [
    {
     "name": "stdout",
     "output_type": "stream",
     "text": [
      "<Response [200]>\n"
     ]
    }
   ],
   "source": [
    "import requests # check response code\n",
    "r_survey = requests.post(heroku_url, data)\n",
    "print(r_survey)"
   ]
  },
  {
   "cell_type": "code",
   "execution_count": 10,
   "metadata": {},
   "outputs": [
    {
     "name": "stdout",
     "output_type": "stream",
     "text": [
      "{'results': {'results': '       artist_name  ...                                        track_name\\n0               YG  ...    Big Bank feat. 2 Chainz, Big Sean, Nicki Minaj\\n123910          YG  ...  BIG BANK (feat. 2 Chainz, Big Sean, Nicki Minaj)\\n\\n[2 rows x 3 columns]'}}\n"
     ]
    }
   ],
   "source": [
    "# get prediction\n",
    "send_request = requests.post(heroku_url, data)\n",
    "print(send_request.json())"
   ]
  },
  {
   "cell_type": "code",
   "execution_count": null,
   "metadata": {},
   "outputs": [],
   "source": []
  }
 ],
 "metadata": {
  "kernelspec": {
   "display_name": "Python 3",
   "language": "python",
   "name": "python3"
  },
  "language_info": {
   "codemirror_mode": {
    "name": "ipython",
    "version": 3
   },
   "file_extension": ".py",
   "mimetype": "text/x-python",
   "name": "python",
   "nbconvert_exporter": "python",
   "pygments_lexer": "ipython3",
   "version": "3.7.4"
  }
 },
 "nbformat": 4,
 "nbformat_minor": 2
}
