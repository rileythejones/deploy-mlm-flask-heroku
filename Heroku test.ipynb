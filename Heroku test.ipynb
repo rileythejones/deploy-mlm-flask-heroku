{
 "cells": [
  {
   "cell_type": "code",
   "execution_count": 6,
   "metadata": {},
   "outputs": [
    {
     "data": {
      "text/plain": [
       "'\"\\\\n{\\\\\"artist_name\\\\\":\\\\\"YG\\\\\",\\\\\"track_id\\\\\":\\\\\"2RM4jf1Xa9zPgMGRDiht8O\\\\\",\\\\n\\\\\"track_name\\\\\":\\\\\"Big Bank feat. 2 Chainz, Big Sean,Nicki Minaj\\\\\",\\\\n\\\\\"acousticness\\\\\":0.00582,\\\\\"danceability\\\\\":0.743,\\\\\"duration_ms\\\\\":238373,\\\\n\\\\\"energy\\\\\":0.339,\\\\\"instrumentalness\\\\\":0.0,\\\\\"key\\\\\":1,\\\\\"liveness\\\\\":0.0812,\\\\n\\\\\"loudness\\\\\":-7.678,\\\\\"mode\\\\\":1,\\\\\"speechiness\\\\\":0.409,\\\\\"tempo\\\\\":203.927,\\\\n\\\\\"time_signature\\\\\":4,\\\\\"valence\\\\\":0.118,\\\\\"popularity\\\\\":15}\\\\n\"'"
      ]
     },
     "execution_count": 6,
     "metadata": {},
     "output_type": "execute_result"
    }
   ],
   "source": [
    "import json\n",
    "# heroku url\n",
    "heroku_url = 'https://spotify-flask-model.herokuapp.com/' # change to your app name\n",
    "\n",
    "# test data\n",
    "data = \"\"\"\n",
    "{\"artist_name\":\"YG\",\"track_id\":\"2RM4jf1Xa9zPgMGRDiht8O\",\n",
    "\"track_name\":\"Big Bank feat. 2 Chainz, Big Sean,Nicki Minaj\",\n",
    "\"acousticness\":0.00582,\"danceability\":0.743,\"duration_ms\":238373,\n",
    "\"energy\":0.339,\"instrumentalness\":0.0,\"key\":1,\"liveness\":0.0812,\n",
    "\"loudness\":-7.678,\"mode\":1,\"speechiness\":0.409,\"tempo\":203.927,\n",
    "\"time_signature\":4,\"valence\":0.118,\"popularity\":15}\n",
    "\"\"\"\n",
    "\n",
    "data = json.dumps(data)\n",
    "data"
   ]
  },
  {
   "cell_type": "code",
   "execution_count": 7,
   "metadata": {},
   "outputs": [
    {
     "name": "stdout",
     "output_type": "stream",
     "text": [
      "<Response [200]>\n"
     ]
    }
   ],
   "source": [
    "import requests # check response code\n",
    "r_survey = requests.post(heroku_url, data)\n",
    "print(r_survey)"
   ]
  },
  {
   "cell_type": "code",
   "execution_count": 9,
   "metadata": {},
   "outputs": [
    {
     "ename": "NameError",
     "evalue": "name 'url' is not defined",
     "output_type": "error",
     "traceback": [
      "\u001b[1;31m---------------------------------------------------------------------------\u001b[0m",
      "\u001b[1;31mNameError\u001b[0m                                 Traceback (most recent call last)",
      "\u001b[1;32m<ipython-input-9-e88d6055dbc6>\u001b[0m in \u001b[0;36m<module>\u001b[1;34m\u001b[0m\n\u001b[0;32m      1\u001b[0m \u001b[1;31m# get prediction\u001b[0m\u001b[1;33m\u001b[0m\u001b[1;33m\u001b[0m\u001b[1;33m\u001b[0m\u001b[0m\n\u001b[1;32m----> 2\u001b[1;33m \u001b[0msend_request\u001b[0m \u001b[1;33m=\u001b[0m \u001b[0mrequests\u001b[0m\u001b[1;33m.\u001b[0m\u001b[0mpost\u001b[0m\u001b[1;33m(\u001b[0m\u001b[0murl\u001b[0m\u001b[1;33m,\u001b[0m \u001b[0mdata\u001b[0m\u001b[1;33m)\u001b[0m\u001b[1;33m\u001b[0m\u001b[1;33m\u001b[0m\u001b[0m\n\u001b[0m\u001b[0;32m      3\u001b[0m \u001b[0mprint\u001b[0m\u001b[1;33m(\u001b[0m\u001b[0msend_request\u001b[0m\u001b[1;33m.\u001b[0m\u001b[0mjson\u001b[0m\u001b[1;33m(\u001b[0m\u001b[1;33m)\u001b[0m\u001b[1;33m)\u001b[0m\u001b[1;33m\u001b[0m\u001b[1;33m\u001b[0m\u001b[0m\n",
      "\u001b[1;31mNameError\u001b[0m: name 'url' is not defined"
     ]
    }
   ],
   "source": [
    "# get prediction\n",
    "send_request = requests.post(url, data)\n",
    "print(send_request.json())"
   ]
  },
  {
   "cell_type": "code",
   "execution_count": null,
   "metadata": {},
   "outputs": [],
   "source": []
  }
 ],
 "metadata": {
  "kernelspec": {
   "display_name": "Python 3",
   "language": "python",
   "name": "python3"
  },
  "language_info": {
   "codemirror_mode": {
    "name": "ipython",
    "version": 3
   },
   "file_extension": ".py",
   "mimetype": "text/x-python",
   "name": "python",
   "nbconvert_exporter": "python",
   "pygments_lexer": "ipython3",
   "version": "3.7.4"
  }
 },
 "nbformat": 4,
 "nbformat_minor": 2
}
