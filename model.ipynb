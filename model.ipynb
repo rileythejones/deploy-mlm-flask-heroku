{
 "cells": [
  {
   "cell_type": "markdown",
   "metadata": {},
   "source": [
    "## Create Model"
   ]
  },
  {
   "cell_type": "code",
   "execution_count": 2,
   "metadata": {},
   "outputs": [
    {
     "data": {
      "text/plain": [
       "NearestNeighbors(algorithm='kd_tree', leaf_size=30, metric='minkowski',\n",
       "                 metric_params=None, n_jobs=None, n_neighbors=10, p=2,\n",
       "                 radius=1.0)"
      ]
     },
     "execution_count": 2,
     "metadata": {},
     "output_type": "execute_result"
    }
   ],
   "source": [
    "import pandas as pd\n",
    "from sklearn.preprocessing import MinMaxScaler\n",
    "from sklearn.neighbors import NearestNeighbors\n",
    "\n",
    "\n",
    "# create df\n",
    "df = pd.read_csv('SpotifyAudioFeaturesApril2019.csv')\n",
    "\n",
    "# Separate data into features and targets\n",
    "target = df.columns[:3] # target is the first 3 columns, ie. artist, song_id, and song name\n",
    "features = df.columns[3:]\n",
    "\n",
    "X = df[features]\n",
    "y = df[target]\n",
    "\n",
    "# remove potentially unecessary columns\n",
    "drop_cols = ['duration_ms', 'key', 'mode', 'time_signature', 'popularity','tempo'] \n",
    "X = X.drop(columns=drop_cols)\n",
    "\n",
    "# scaling \n",
    "scaler = MinMaxScaler()\n",
    "scaler.fit_transform(X)\n",
    "\n",
    "# model \n",
    "model = NearestNeighbors(n_neighbors=10, algorithm='kd_tree')\n",
    "model.fit(X)"
   ]
  },
  {
   "cell_type": "markdown",
   "metadata": {},
   "source": [
    "## Test Flask in Production"
   ]
  },
  {
   "cell_type": "code",
   "execution_count": 185,
   "metadata": {},
   "outputs": [],
   "source": [
    "import requests\n",
    "import json"
   ]
  },
  {
   "cell_type": "code",
   "execution_count": 6,
   "metadata": {},
   "outputs": [],
   "source": [
    "import json\n",
    "data = \"\"\"\n",
    "{\"artist_name\":\"YG\",\"track_id\":\"2RM4jf1Xa9zPgMGRDiht8O\",\n",
    "\"track_name\":\"Big Bank feat. 2 Chainz, Big Sean,Nicki Minaj\",\n",
    "\"acousticness\":0.00582,\"danceability\":0.743,\"duration_ms\":238373,\n",
    "\"energy\":0.339,\"instrumentalness\":0.0,\"key\":1,\"liveness\":0.0812,\n",
    "\"loudness\":-7.678,\"mode\":1,\"speechiness\":0.409,\"tempo\":203.927,\n",
    "\"time_signature\":4,\"valence\":0.118,\"popularity\":15}\n",
    "\"\"\"\n",
    "labels = ['artist_name', 'track_id', 'track_name', 'duration_ms', 'key', 'mode', 'tempo', 'time_signature', 'popularity']      \n",
    "predictor = pd.Series(json.loads(data)).drop(labels=labels)"
   ]
  },
  {
   "cell_type": "code",
   "execution_count": 7,
   "metadata": {},
   "outputs": [
    {
     "data": {
      "text/plain": [
       "acousticness        0.00582\n",
       "danceability          0.743\n",
       "energy                0.339\n",
       "instrumentalness          0\n",
       "liveness             0.0812\n",
       "loudness             -7.678\n",
       "speechiness           0.409\n",
       "valence               0.118\n",
       "dtype: object"
      ]
     },
     "execution_count": 7,
     "metadata": {},
     "output_type": "execute_result"
    }
   ],
   "source": [
    "predictor"
   ]
  },
  {
   "cell_type": "code",
   "execution_count": 8,
   "metadata": {},
   "outputs": [],
   "source": [
    "recommendations = model.kneighbors([predictor])[1][0]"
   ]
  },
  {
   "cell_type": "code",
   "execution_count": 9,
   "metadata": {},
   "outputs": [
    {
     "data": {
      "text/plain": [
       "'       artist_name                track_id  \\\\\\n0               YG  2RM4jf1Xa9zPgMGRDiht8O   \\n123910          YG  0ZNrc4kNeQYD9koZ3KvCsy   \\n\\n                                              track_name  \\n0         Big Bank feat. 2 Chainz, Big Sean, Nicki Minaj  \\n123910  BIG BANK (feat. 2 Chainz, Big Sean, Nicki Minaj)  '"
      ]
     },
     "execution_count": 9,
     "metadata": {},
     "output_type": "execute_result"
    }
   ],
   "source": [
    "str(y.iloc[recommendations][:2])"
   ]
  },
  {
   "cell_type": "code",
   "execution_count": 183,
   "metadata": {},
   "outputs": [
    {
     "data": {
      "text/plain": [
       "[acousticness        0.00582\n",
       " danceability          0.743\n",
       " energy                0.339\n",
       " instrumentalness          0\n",
       " liveness             0.0812\n",
       " loudness             -7.678\n",
       " speechiness           0.409\n",
       " valence               0.118\n",
       " dtype: object]"
      ]
     },
     "execution_count": 183,
     "metadata": {},
     "output_type": "execute_result"
    }
   ],
   "source": [
    "data = \"\"\"\n",
    "{\"artist_name\":\"YG\",\"track_id\":\"2RM4jf1Xa9zPgMGRDiht8O\",\n",
    "\"track_name\":\"Big Bank feat. 2 Chainz, Big Sean,Nicki Minaj\",\n",
    "\"acousticness\":0.00582,\"danceability\":0.743,\"duration_ms\":238373,\n",
    "\"energy\":0.339,\"instrumentalness\":0.0,\"key\":1,\"liveness\":0.0812,\n",
    "\"loudness\":-7.678,\"mode\":1,\"speechiness\":0.409,\"tempo\":203.927,\n",
    "\"time_signature\":4,\"valence\":0.118,\"popularity\":15}\n",
    "\"\"\"\n",
    "labels = ['artist_name', 'track_id', 'track_name', 'duration_ms', 'key', 'mode', 'tempo', 'time_signature', 'popularity']      \n",
    "predictor = pd.Series(json.loads(data)).drop(labels=labs)\n",
    "recommendations = model.kneighbors([predictor])[1][0]\n",
    "y.iloc[recommendations]"
   ]
  },
  {
   "cell_type": "code",
   "execution_count": 181,
   "metadata": {},
   "outputs": [
    {
     "data": {
      "text/plain": [
       "[acousticness         0.987\n",
       " danceability         0.412\n",
       " energy               0.108\n",
       " instrumentalness     0.887\n",
       " liveness             0.160\n",
       " loudness           -23.295\n",
       " speechiness          0.040\n",
       " valence              0.349\n",
       " Name: 360, dtype: float64]"
      ]
     },
     "execution_count": 181,
     "metadata": {},
     "output_type": "execute_result"
    }
   ],
   "source": [
    "[X.iloc[moz_list[0]]]"
   ]
  },
  {
   "cell_type": "code",
   "execution_count": 182,
   "metadata": {},
   "outputs": [
    {
     "data": {
      "text/html": [
       "<div>\n",
       "<style scoped>\n",
       "    .dataframe tbody tr th:only-of-type {\n",
       "        vertical-align: middle;\n",
       "    }\n",
       "\n",
       "    .dataframe tbody tr th {\n",
       "        vertical-align: top;\n",
       "    }\n",
       "\n",
       "    .dataframe thead th {\n",
       "        text-align: right;\n",
       "    }\n",
       "</style>\n",
       "<table border=\"1\" class=\"dataframe\">\n",
       "  <thead>\n",
       "    <tr style=\"text-align: right;\">\n",
       "      <th></th>\n",
       "      <th>artist_name</th>\n",
       "      <th>track_id</th>\n",
       "      <th>track_name</th>\n",
       "    </tr>\n",
       "  </thead>\n",
       "  <tbody>\n",
       "    <tr>\n",
       "      <td>0</td>\n",
       "      <td>YG</td>\n",
       "      <td>2RM4jf1Xa9zPgMGRDiht8O</td>\n",
       "      <td>Big Bank feat. 2 Chainz, Big Sean, Nicki Minaj</td>\n",
       "    </tr>\n",
       "    <tr>\n",
       "      <td>123910</td>\n",
       "      <td>YG</td>\n",
       "      <td>0ZNrc4kNeQYD9koZ3KvCsy</td>\n",
       "      <td>BIG BANK (feat. 2 Chainz, Big Sean, Nicki Minaj)</td>\n",
       "    </tr>\n",
       "    <tr>\n",
       "      <td>43679</td>\n",
       "      <td>Malcolm Anthony</td>\n",
       "      <td>2BhNdsWlcpHeJGM85EjOlO</td>\n",
       "      <td>My Town</td>\n",
       "    </tr>\n",
       "    <tr>\n",
       "      <td>15960</td>\n",
       "      <td>SG Tip</td>\n",
       "      <td>31cZdDNDDvmPDfBUT1zYFf</td>\n",
       "      <td>No Brain</td>\n",
       "    </tr>\n",
       "    <tr>\n",
       "      <td>40897</td>\n",
       "      <td>Joell B</td>\n",
       "      <td>7bsBenFEDBYMkA5D0Bvwww</td>\n",
       "      <td>Trauma</td>\n",
       "    </tr>\n",
       "    <tr>\n",
       "      <td>110212</td>\n",
       "      <td>REASON</td>\n",
       "      <td>274Dih3HQsnMt9aJputs7N</td>\n",
       "      <td>Bottom</td>\n",
       "    </tr>\n",
       "    <tr>\n",
       "      <td>49275</td>\n",
       "      <td>Jose Guapo</td>\n",
       "      <td>4MifHoD1ugjZXg3uDDvEbH</td>\n",
       "      <td>How to Get a Sack</td>\n",
       "    </tr>\n",
       "    <tr>\n",
       "      <td>125047</td>\n",
       "      <td>Gucci Mane</td>\n",
       "      <td>0sM8ktJMFE7yCY4sWucgyQ</td>\n",
       "      <td>By Myself</td>\n",
       "    </tr>\n",
       "    <tr>\n",
       "      <td>211</td>\n",
       "      <td>Money Man</td>\n",
       "      <td>2jCPVc4w44ZjcFDFsPy1i0</td>\n",
       "      <td>Picky</td>\n",
       "    </tr>\n",
       "    <tr>\n",
       "      <td>101642</td>\n",
       "      <td>ScHoolboy Q</td>\n",
       "      <td>4dTiQezDWmEOWcdCbWVWMp</td>\n",
       "      <td>Numb Numb Juice</td>\n",
       "    </tr>\n",
       "  </tbody>\n",
       "</table>\n",
       "</div>"
      ],
      "text/plain": [
       "            artist_name                track_id  \\\n",
       "0                    YG  2RM4jf1Xa9zPgMGRDiht8O   \n",
       "123910               YG  0ZNrc4kNeQYD9koZ3KvCsy   \n",
       "43679   Malcolm Anthony  2BhNdsWlcpHeJGM85EjOlO   \n",
       "15960            SG Tip  31cZdDNDDvmPDfBUT1zYFf   \n",
       "40897           Joell B  7bsBenFEDBYMkA5D0Bvwww   \n",
       "110212           REASON  274Dih3HQsnMt9aJputs7N   \n",
       "49275        Jose Guapo  4MifHoD1ugjZXg3uDDvEbH   \n",
       "125047       Gucci Mane  0sM8ktJMFE7yCY4sWucgyQ   \n",
       "211           Money Man  2jCPVc4w44ZjcFDFsPy1i0   \n",
       "101642      ScHoolboy Q  4dTiQezDWmEOWcdCbWVWMp   \n",
       "\n",
       "                                              track_name  \n",
       "0         Big Bank feat. 2 Chainz, Big Sean, Nicki Minaj  \n",
       "123910  BIG BANK (feat. 2 Chainz, Big Sean, Nicki Minaj)  \n",
       "43679                                            My Town  \n",
       "15960                                           No Brain  \n",
       "40897                                             Trauma  \n",
       "110212                                            Bottom  \n",
       "49275                                  How to Get a Sack  \n",
       "125047                                         By Myself  \n",
       "211                                                Picky  \n",
       "101642                                   Numb Numb Juice  "
      ]
     },
     "execution_count": 182,
     "metadata": {},
     "output_type": "execute_result"
    }
   ],
   "source": [
    "moz_list = df[df.artist_name == 'Wolfgang Amadeus Mozart'].index\n",
    "recommendations = nn.kneighbors([predictor])[1][0]\n",
    "y.iloc[recommendations]"
   ]
  },
  {
   "cell_type": "code",
   "execution_count": 199,
   "metadata": {},
   "outputs": [
    {
     "data": {
      "text/plain": [
       "'       artist_name                track_id  \\\\\\n0               YG  2RM4jf1Xa9zPgMGRDiht8O   \\n123910          YG  0ZNrc4kNeQYD9koZ3KvCsy   \\n\\n                                              track_name  \\n0         Big Bank feat. 2 Chainz, Big Sean, Nicki Minaj  \\n123910  BIG BANK (feat. 2 Chainz, Big Sean, Nicki Minaj)  '"
      ]
     },
     "execution_count": 199,
     "metadata": {},
     "output_type": "execute_result"
    }
   ],
   "source": [
    "str(y.iloc[recommendations][:2])"
   ]
  },
  {
   "cell_type": "code",
   "execution_count": 221,
   "metadata": {},
   "outputs": [
    {
     "data": {
      "text/plain": [
       "[acousticness         0.987\n",
       " danceability         0.412\n",
       " energy               0.108\n",
       " instrumentalness     0.887\n",
       " liveness             0.160\n",
       " loudness           -23.295\n",
       " speechiness          0.040\n",
       " valence              0.349\n",
       " Name: 360, dtype: float64]"
      ]
     },
     "execution_count": 221,
     "metadata": {},
     "output_type": "execute_result"
    }
   ],
   "source": [
    "[X.iloc[moz_list[0]]]"
   ]
  },
  {
   "cell_type": "code",
   "execution_count": 10,
   "metadata": {},
   "outputs": [
    {
     "data": {
      "text/plain": [
       "'\"\\\\n{\\\\\"artist_name\\\\\":\\\\\"YG\\\\\",\\\\\"track_id\\\\\":\\\\\"2RM4jf1Xa9zPgMGRDiht8O\\\\\",\\\\n\\\\\"track_name\\\\\":\\\\\"Big Bank feat. 2 Chainz, Big Sean,Nicki Minaj\\\\\",\\\\n\\\\\"acousticness\\\\\":0.00582,\\\\\"danceability\\\\\":0.743,\\\\\"duration_ms\\\\\":238373,\\\\n\\\\\"energy\\\\\":0.339,\\\\\"instrumentalness\\\\\":0.0,\\\\\"key\\\\\":1,\\\\\"liveness\\\\\":0.0812,\\\\n\\\\\"loudness\\\\\":-7.678,\\\\\"mode\\\\\":1,\\\\\"speechiness\\\\\":0.409,\\\\\"tempo\\\\\":203.927,\\\\n\\\\\"time_signature\\\\\":4,\\\\\"valence\\\\\":0.118,\\\\\"popularity\\\\\":15}\\\\n\"'"
      ]
     },
     "execution_count": 10,
     "metadata": {},
     "output_type": "execute_result"
    }
   ],
   "source": [
    "# local url\n",
    "url = 'http://127.0.0.1:5000'\n",
    "\n",
    "# test data\n",
    "data = \"\"\"\n",
    "{\"artist_name\":\"YG\",\"track_id\":\"2RM4jf1Xa9zPgMGRDiht8O\",\n",
    "\"track_name\":\"Big Bank feat. 2 Chainz, Big Sean,Nicki Minaj\",\n",
    "\"acousticness\":0.00582,\"danceability\":0.743,\"duration_ms\":238373,\n",
    "\"energy\":0.339,\"instrumentalness\":0.0,\"key\":1,\"liveness\":0.0812,\n",
    "\"loudness\":-7.678,\"mode\":1,\"speechiness\":0.409,\"tempo\":203.927,\n",
    "\"time_signature\":4,\"valence\":0.118,\"popularity\":15}\n",
    "\"\"\"\n",
    "\n",
    "data = json.dumps(data)\n",
    "data"
   ]
  },
  {
   "cell_type": "code",
   "execution_count": 12,
   "metadata": {},
   "outputs": [
    {
     "name": "stdout",
     "output_type": "stream",
     "text": [
      "<Response [200]>\n"
     ]
    }
   ],
   "source": [
    "import requests \n",
    "r_survey = requests.post(url, data)\n",
    "print(r_survey)"
   ]
  },
  {
   "cell_type": "code",
   "execution_count": 13,
   "metadata": {},
   "outputs": [
    {
     "name": "stdout",
     "output_type": "stream",
     "text": [
      "<Response [200]>\n"
     ]
    }
   ],
   "source": [
    "send_request = requests.post(url, data)\n",
    "print(send_request)"
   ]
  },
  {
   "cell_type": "code",
   "execution_count": 14,
   "metadata": {},
   "outputs": [
    {
     "name": "stdout",
     "output_type": "stream",
     "text": [
      "{'results': {'results': '       artist_name                track_id                                        track_name\\n0               YG  2RM4jf1Xa9zPgMGRDiht8O    Big Bank feat. 2 Chainz, Big Sean, Nicki Minaj\\n123910          YG  0ZNrc4kNeQYD9koZ3KvCsy  BIG BANK (feat. 2 Chainz, Big Sean, Nicki Minaj)'}}\n"
     ]
    }
   ],
   "source": [
    "print(send_request.json())"
   ]
  },
  {
   "cell_type": "markdown",
   "metadata": {},
   "source": [
    "## Test App in Heroku"
   ]
  },
  {
   "cell_type": "code",
   "execution_count": 7,
   "metadata": {},
   "outputs": [
    {
     "data": {
      "text/plain": [
       "'{\"Pclass\": 3, \"Age\": 2, \"SibSp\": 1, \"Fare\": 50}'"
      ]
     },
     "execution_count": 7,
     "metadata": {},
     "output_type": "execute_result"
    }
   ],
   "source": [
    "# heroku url\n",
    "heroku_url = 'https://spotify-flask-model.herokuapp.com/' # change to your app name\n",
    "\n",
    "# test data\n",
    "data = {'Pclass': 3\n",
    "      , 'Age': 2\n",
    "      , 'SibSp': 1\n",
    "      , 'Fare': 50}\n",
    "\n",
    "data = json.dumps(data)\n",
    "data"
   ]
  },
  {
   "cell_type": "code",
   "execution_count": 211,
   "metadata": {},
   "outputs": [
    {
     "name": "stdout",
     "output_type": "stream",
     "text": [
      "<Response [500]>\n"
     ]
    }
   ],
   "source": [
    "# check response code\n",
    "r_survey = requests.post(heroku_url, data)\n",
    "print(r_survey)"
   ]
  },
  {
   "cell_type": "code",
   "execution_count": 212,
   "metadata": {},
   "outputs": [
    {
     "ename": "JSONDecodeError",
     "evalue": "Expecting value: line 1 column 1 (char 0)",
     "output_type": "error",
     "traceback": [
      "\u001b[1;31m---------------------------------------------------------------------------\u001b[0m",
      "\u001b[1;31mJSONDecodeError\u001b[0m                           Traceback (most recent call last)",
      "\u001b[1;32m<ipython-input-212-fadcfe0c3b99>\u001b[0m in \u001b[0;36m<module>\u001b[1;34m\u001b[0m\n\u001b[0;32m      1\u001b[0m \u001b[1;31m# get prediction\u001b[0m\u001b[1;33m\u001b[0m\u001b[1;33m\u001b[0m\u001b[1;33m\u001b[0m\u001b[0m\n\u001b[1;32m----> 2\u001b[1;33m \u001b[0mprint\u001b[0m\u001b[1;33m(\u001b[0m\u001b[0msend_request\u001b[0m\u001b[1;33m.\u001b[0m\u001b[0mjson\u001b[0m\u001b[1;33m(\u001b[0m\u001b[1;33m)\u001b[0m\u001b[1;33m)\u001b[0m\u001b[1;33m\u001b[0m\u001b[1;33m\u001b[0m\u001b[0m\n\u001b[0m",
      "\u001b[1;32m~\\Anaconda3\\lib\\site-packages\\requests\\models.py\u001b[0m in \u001b[0;36mjson\u001b[1;34m(self, **kwargs)\u001b[0m\n\u001b[0;32m    895\u001b[0m                     \u001b[1;31m# used.\u001b[0m\u001b[1;33m\u001b[0m\u001b[1;33m\u001b[0m\u001b[1;33m\u001b[0m\u001b[0m\n\u001b[0;32m    896\u001b[0m                     \u001b[1;32mpass\u001b[0m\u001b[1;33m\u001b[0m\u001b[1;33m\u001b[0m\u001b[0m\n\u001b[1;32m--> 897\u001b[1;33m         \u001b[1;32mreturn\u001b[0m \u001b[0mcomplexjson\u001b[0m\u001b[1;33m.\u001b[0m\u001b[0mloads\u001b[0m\u001b[1;33m(\u001b[0m\u001b[0mself\u001b[0m\u001b[1;33m.\u001b[0m\u001b[0mtext\u001b[0m\u001b[1;33m,\u001b[0m \u001b[1;33m**\u001b[0m\u001b[0mkwargs\u001b[0m\u001b[1;33m)\u001b[0m\u001b[1;33m\u001b[0m\u001b[1;33m\u001b[0m\u001b[0m\n\u001b[0m\u001b[0;32m    898\u001b[0m \u001b[1;33m\u001b[0m\u001b[0m\n\u001b[0;32m    899\u001b[0m     \u001b[1;33m@\u001b[0m\u001b[0mproperty\u001b[0m\u001b[1;33m\u001b[0m\u001b[1;33m\u001b[0m\u001b[0m\n",
      "\u001b[1;32m~\\Anaconda3\\lib\\json\\__init__.py\u001b[0m in \u001b[0;36mloads\u001b[1;34m(s, encoding, cls, object_hook, parse_float, parse_int, parse_constant, object_pairs_hook, **kw)\u001b[0m\n\u001b[0;32m    346\u001b[0m             \u001b[0mparse_int\u001b[0m \u001b[1;32mis\u001b[0m \u001b[1;32mNone\u001b[0m \u001b[1;32mand\u001b[0m \u001b[0mparse_float\u001b[0m \u001b[1;32mis\u001b[0m \u001b[1;32mNone\u001b[0m \u001b[1;32mand\u001b[0m\u001b[1;33m\u001b[0m\u001b[1;33m\u001b[0m\u001b[0m\n\u001b[0;32m    347\u001b[0m             parse_constant is None and object_pairs_hook is None and not kw):\n\u001b[1;32m--> 348\u001b[1;33m         \u001b[1;32mreturn\u001b[0m \u001b[0m_default_decoder\u001b[0m\u001b[1;33m.\u001b[0m\u001b[0mdecode\u001b[0m\u001b[1;33m(\u001b[0m\u001b[0ms\u001b[0m\u001b[1;33m)\u001b[0m\u001b[1;33m\u001b[0m\u001b[1;33m\u001b[0m\u001b[0m\n\u001b[0m\u001b[0;32m    349\u001b[0m     \u001b[1;32mif\u001b[0m \u001b[0mcls\u001b[0m \u001b[1;32mis\u001b[0m \u001b[1;32mNone\u001b[0m\u001b[1;33m:\u001b[0m\u001b[1;33m\u001b[0m\u001b[1;33m\u001b[0m\u001b[0m\n\u001b[0;32m    350\u001b[0m         \u001b[0mcls\u001b[0m \u001b[1;33m=\u001b[0m \u001b[0mJSONDecoder\u001b[0m\u001b[1;33m\u001b[0m\u001b[1;33m\u001b[0m\u001b[0m\n",
      "\u001b[1;32m~\\Anaconda3\\lib\\json\\decoder.py\u001b[0m in \u001b[0;36mdecode\u001b[1;34m(self, s, _w)\u001b[0m\n\u001b[0;32m    335\u001b[0m \u001b[1;33m\u001b[0m\u001b[0m\n\u001b[0;32m    336\u001b[0m         \"\"\"\n\u001b[1;32m--> 337\u001b[1;33m         \u001b[0mobj\u001b[0m\u001b[1;33m,\u001b[0m \u001b[0mend\u001b[0m \u001b[1;33m=\u001b[0m \u001b[0mself\u001b[0m\u001b[1;33m.\u001b[0m\u001b[0mraw_decode\u001b[0m\u001b[1;33m(\u001b[0m\u001b[0ms\u001b[0m\u001b[1;33m,\u001b[0m \u001b[0midx\u001b[0m\u001b[1;33m=\u001b[0m\u001b[0m_w\u001b[0m\u001b[1;33m(\u001b[0m\u001b[0ms\u001b[0m\u001b[1;33m,\u001b[0m \u001b[1;36m0\u001b[0m\u001b[1;33m)\u001b[0m\u001b[1;33m.\u001b[0m\u001b[0mend\u001b[0m\u001b[1;33m(\u001b[0m\u001b[1;33m)\u001b[0m\u001b[1;33m)\u001b[0m\u001b[1;33m\u001b[0m\u001b[1;33m\u001b[0m\u001b[0m\n\u001b[0m\u001b[0;32m    338\u001b[0m         \u001b[0mend\u001b[0m \u001b[1;33m=\u001b[0m \u001b[0m_w\u001b[0m\u001b[1;33m(\u001b[0m\u001b[0ms\u001b[0m\u001b[1;33m,\u001b[0m \u001b[0mend\u001b[0m\u001b[1;33m)\u001b[0m\u001b[1;33m.\u001b[0m\u001b[0mend\u001b[0m\u001b[1;33m(\u001b[0m\u001b[1;33m)\u001b[0m\u001b[1;33m\u001b[0m\u001b[1;33m\u001b[0m\u001b[0m\n\u001b[0;32m    339\u001b[0m         \u001b[1;32mif\u001b[0m \u001b[0mend\u001b[0m \u001b[1;33m!=\u001b[0m \u001b[0mlen\u001b[0m\u001b[1;33m(\u001b[0m\u001b[0ms\u001b[0m\u001b[1;33m)\u001b[0m\u001b[1;33m:\u001b[0m\u001b[1;33m\u001b[0m\u001b[1;33m\u001b[0m\u001b[0m\n",
      "\u001b[1;32m~\\Anaconda3\\lib\\json\\decoder.py\u001b[0m in \u001b[0;36mraw_decode\u001b[1;34m(self, s, idx)\u001b[0m\n\u001b[0;32m    353\u001b[0m             \u001b[0mobj\u001b[0m\u001b[1;33m,\u001b[0m \u001b[0mend\u001b[0m \u001b[1;33m=\u001b[0m \u001b[0mself\u001b[0m\u001b[1;33m.\u001b[0m\u001b[0mscan_once\u001b[0m\u001b[1;33m(\u001b[0m\u001b[0ms\u001b[0m\u001b[1;33m,\u001b[0m \u001b[0midx\u001b[0m\u001b[1;33m)\u001b[0m\u001b[1;33m\u001b[0m\u001b[1;33m\u001b[0m\u001b[0m\n\u001b[0;32m    354\u001b[0m         \u001b[1;32mexcept\u001b[0m \u001b[0mStopIteration\u001b[0m \u001b[1;32mas\u001b[0m \u001b[0merr\u001b[0m\u001b[1;33m:\u001b[0m\u001b[1;33m\u001b[0m\u001b[1;33m\u001b[0m\u001b[0m\n\u001b[1;32m--> 355\u001b[1;33m             \u001b[1;32mraise\u001b[0m \u001b[0mJSONDecodeError\u001b[0m\u001b[1;33m(\u001b[0m\u001b[1;34m\"Expecting value\"\u001b[0m\u001b[1;33m,\u001b[0m \u001b[0ms\u001b[0m\u001b[1;33m,\u001b[0m \u001b[0merr\u001b[0m\u001b[1;33m.\u001b[0m\u001b[0mvalue\u001b[0m\u001b[1;33m)\u001b[0m \u001b[1;32mfrom\u001b[0m \u001b[1;32mNone\u001b[0m\u001b[1;33m\u001b[0m\u001b[1;33m\u001b[0m\u001b[0m\n\u001b[0m\u001b[0;32m    356\u001b[0m         \u001b[1;32mreturn\u001b[0m \u001b[0mobj\u001b[0m\u001b[1;33m,\u001b[0m \u001b[0mend\u001b[0m\u001b[1;33m\u001b[0m\u001b[1;33m\u001b[0m\u001b[0m\n",
      "\u001b[1;31mJSONDecodeError\u001b[0m: Expecting value: line 1 column 1 (char 0)"
     ]
    }
   ],
   "source": [
    "# get prediction\n",
    "print(send_request.json())"
   ]
  },
  {
   "cell_type": "code",
   "execution_count": null,
   "metadata": {},
   "outputs": [],
   "source": []
  }
 ],
 "metadata": {
  "kernelspec": {
   "display_name": "Python 3",
   "language": "python",
   "name": "python3"
  },
  "language_info": {
   "codemirror_mode": {
    "name": "ipython",
    "version": 3
   },
   "file_extension": ".py",
   "mimetype": "text/x-python",
   "name": "python",
   "nbconvert_exporter": "python",
   "pygments_lexer": "ipython3",
   "version": "3.7.4"
  }
 },
 "nbformat": 4,
 "nbformat_minor": 4
}
