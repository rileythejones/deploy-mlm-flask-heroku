{
 "cells": [
  {
   "cell_type": "markdown",
   "metadata": {},
   "source": [
    "## Create Model"
   ]
  },
  {
   "cell_type": "code",
   "execution_count": 2,
   "metadata": {},
   "outputs": [
    {
     "data": {
      "text/plain": [
       "NearestNeighbors(algorithm='kd_tree', leaf_size=30, metric='minkowski',\n",
       "                 metric_params=None, n_jobs=None, n_neighbors=10, p=2,\n",
       "                 radius=1.0)"
      ]
     },
     "execution_count": 2,
     "metadata": {},
     "output_type": "execute_result"
    }
   ],
   "source": [
    "import pandas as pd\n",
    "from sklearn.preprocessing import MinMaxScaler\n",
    "from sklearn.neighbors import NearestNeighbors\n",
    "\n",
    "\n",
    "# create df\n",
    "df = pd.read_csv('SpotifyAudioFeaturesApril2019.csv')\n",
    "\n",
    "# Separate data into features and targets\n",
    "target = df.columns[:3] # target is the first 3 columns, ie. artist, song_id, and song name\n",
    "features = df.columns[3:]\n",
    "\n",
    "X = df[features]\n",
    "y = df[target]\n",
    "\n",
    "# remove potentially unecessary columns\n",
    "drop_cols = ['duration_ms', 'key', 'mode', 'time_signature', 'popularity','tempo'] \n",
    "X = X.drop(columns=drop_cols)\n",
    "\n",
    "# scaling \n",
    "scaler = MinMaxScaler()\n",
    "scaler.fit_transform(X)\n",
    "\n",
    "# model \n",
    "model = NearestNeighbors(n_neighbors=10, algorithm='kd_tree')\n",
    "model.fit(X)"
   ]
  },
  {
   "cell_type": "markdown",
   "metadata": {},
   "source": [
    "## Test Flask in Production"
   ]
  },
  {
   "cell_type": "code",
   "execution_count": 185,
   "metadata": {},
   "outputs": [],
   "source": [
    "import requests\n",
    "import json"
   ]
  },
  {
   "cell_type": "code",
   "execution_count": 6,
   "metadata": {},
   "outputs": [],
   "source": [
    "import json\n",
    "data = \"\"\"\n",
    "{\"artist_name\":\"YG\",\"track_id\":\"2RM4jf1Xa9zPgMGRDiht8O\",\n",
    "\"track_name\":\"Big Bank feat. 2 Chainz, Big Sean,Nicki Minaj\",\n",
    "\"acousticness\":0.00582,\"danceability\":0.743,\"duration_ms\":238373,\n",
    "\"energy\":0.339,\"instrumentalness\":0.0,\"key\":1,\"liveness\":0.0812,\n",
    "\"loudness\":-7.678,\"mode\":1,\"speechiness\":0.409,\"tempo\":203.927,\n",
    "\"time_signature\":4,\"valence\":0.118,\"popularity\":15}\n",
    "\"\"\"\n",
    "labels = ['artist_name', 'track_id', 'track_name', 'duration_ms', 'key', 'mode', 'tempo', 'time_signature', 'popularity']      \n",
    "predictor = pd.Series(json.loads(data)).drop(labels=labels)"
   ]
  },
  {
   "cell_type": "code",
   "execution_count": 7,
   "metadata": {},
   "outputs": [
    {
     "data": {
      "text/plain": [
       "acousticness        0.00582\n",
       "danceability          0.743\n",
       "energy                0.339\n",
       "instrumentalness          0\n",
       "liveness             0.0812\n",
       "loudness             -7.678\n",
       "speechiness           0.409\n",
       "valence               0.118\n",
       "dtype: object"
      ]
     },
     "execution_count": 7,
     "metadata": {},
     "output_type": "execute_result"
    }
   ],
   "source": [
    "predictor"
   ]
  },
  {
   "cell_type": "code",
   "execution_count": 8,
   "metadata": {},
   "outputs": [],
   "source": [
    "recommendations = model.kneighbors([predictor])[1][0]"
   ]
  },
  {
   "cell_type": "code",
   "execution_count": 9,
   "metadata": {},
   "outputs": [
    {
     "data": {
      "text/plain": [
       "'       artist_name                track_id  \\\\\\n0               YG  2RM4jf1Xa9zPgMGRDiht8O   \\n123910          YG  0ZNrc4kNeQYD9koZ3KvCsy   \\n\\n                                              track_name  \\n0         Big Bank feat. 2 Chainz, Big Sean, Nicki Minaj  \\n123910  BIG BANK (feat. 2 Chainz, Big Sean, Nicki Minaj)  '"
      ]
     },
     "execution_count": 9,
     "metadata": {},
     "output_type": "execute_result"
    }
   ],
   "source": [
    "str(y.iloc[recommendations][:2])"
   ]
  },
  {
   "cell_type": "code",
   "execution_count": 183,
   "metadata": {},
   "outputs": [
    {
     "data": {
      "text/plain": [
       "[acousticness        0.00582\n",
       " danceability          0.743\n",
       " energy                0.339\n",
       " instrumentalness          0\n",
       " liveness             0.0812\n",
       " loudness             -7.678\n",
       " speechiness           0.409\n",
       " valence               0.118\n",
       " dtype: object]"
      ]
     },
     "execution_count": 183,
     "metadata": {},
     "output_type": "execute_result"
    }
   ],
   "source": [
    "data = \"\"\"\n",
    "{\"artist_name\":\"YG\",\"track_id\":\"2RM4jf1Xa9zPgMGRDiht8O\",\n",
    "\"track_name\":\"Big Bank feat. 2 Chainz, Big Sean,Nicki Minaj\",\n",
    "\"acousticness\":0.00582,\"danceability\":0.743,\"duration_ms\":238373,\n",
    "\"energy\":0.339,\"instrumentalness\":0.0,\"key\":1,\"liveness\":0.0812,\n",
    "\"loudness\":-7.678,\"mode\":1,\"speechiness\":0.409,\"tempo\":203.927,\n",
    "\"time_signature\":4,\"valence\":0.118,\"popularity\":15}\n",
    "\"\"\"\n",
    "labels = ['artist_name', 'track_id', 'track_name', 'duration_ms', 'key', 'mode', 'tempo', 'time_signature', 'popularity']      \n",
    "predictor = pd.Series(json.loads(data)).drop(labels=labs)\n",
    "recommendations = model.kneighbors([predictor])[1][0]\n",
    "y.iloc[recommendations]"
   ]
  },
  {
   "cell_type": "code",
   "execution_count": 28,
   "metadata": {},
   "outputs": [
    {
     "data": {
      "text/plain": [
       "'\"\\\\n{\\\\\"artist_name\\\\\":\\\\\"YG\\\\\",\\\\\"track_id\\\\\":\\\\\"2RM4jf1Xa9zPgMGRDiht8O\\\\\",\\\\n\\\\\"track_name\\\\\":\\\\\"Big Bank feat. 2 Chainz, Big Sean,Nicki Minaj\\\\\",\\\\n\\\\\"acousticness\\\\\":0.00582,\\\\\"danceability\\\\\":0.743,\\\\\"duration_ms\\\\\":238373,\\\\n\\\\\"energy\\\\\":0.339,\\\\\"instrumentalness\\\\\":0.0,\\\\\"key\\\\\":1,\\\\\"liveness\\\\\":0.0812,\\\\n\\\\\"loudness\\\\\":-7.678,\\\\\"mode\\\\\":1,\\\\\"speechiness\\\\\":0.409,\\\\\"tempo\\\\\":203.927,\\\\n\\\\\"time_signature\\\\\":4,\\\\\"valence\\\\\":0.118,\\\\\"popularity\\\\\":15}\\\\n\"'"
      ]
     },
     "execution_count": 28,
     "metadata": {},
     "output_type": "execute_result"
    }
   ],
   "source": [
    "# local url\n",
    "url = 'http://127.0.0.1:5000'\n",
    "\n",
    "# test data\n",
    "data = \"\"\"\n",
    "{\"artist_name\":\"YG\",\"track_id\":\"2RM4jf1Xa9zPgMGRDiht8O\",\n",
    "\"track_name\":\"Big Bank feat. 2 Chainz, Big Sean,Nicki Minaj\",\n",
    "\"acousticness\":0.00582,\"danceability\":0.743,\"duration_ms\":238373,\n",
    "\"energy\":0.339,\"instrumentalness\":0.0,\"key\":1,\"liveness\":0.0812,\n",
    "\"loudness\":-7.678,\"mode\":1,\"speechiness\":0.409,\"tempo\":203.927,\n",
    "\"time_signature\":4,\"valence\":0.118,\"popularity\":15}\n",
    "\"\"\"\n",
    "\n",
    "data = json.dumps(data)\n",
    "data"
   ]
  },
  {
   "cell_type": "code",
   "execution_count": 40,
   "metadata": {},
   "outputs": [
    {
     "name": "stdout",
     "output_type": "stream",
     "text": [
      "Collecting jsonify\n",
      "  Downloading https://files.pythonhosted.org/packages/63/5d/44962520aa458852bbd40ac5553dd1431f6367ab31f39ee7650b57136d9a/jsonify-0.5.tar.gz\n",
      "Building wheels for collected packages: jsonify\n",
      "  Building wheel for jsonify (setup.py): started\n",
      "  Building wheel for jsonify (setup.py): finished with status 'done'\n",
      "  Created wheel for jsonify: filename=jsonify-0.5-cp37-none-any.whl size=1567 sha256=67150d757d1c7e548dbd77b1f3d3bd977d8bf1b77d1d2281fd60598213c84cf4\n",
      "  Stored in directory: C:\\Users\\Ryloid\\AppData\\Local\\pip\\Cache\\wheels\\ba\\51\\8a\\136c19b604769b6cb4946fc3402a7068d86fe1f43f8824e2bf\n",
      "Successfully built jsonify\n",
      "Installing collected packages: jsonify\n",
      "Successfully installed jsonify-0.5\n",
      "Note: you may need to restart the kernel to use updated packages.\n"
     ]
    }
   ],
   "source": [
    "pip install jsonify"
   ]
  },
  {
   "cell_type": "code",
   "execution_count": 76,
   "metadata": {},
   "outputs": [
    {
     "data": {
      "text/plain": [
       "'{\"artist_name\":{\"0\":\"YG\",\"123910\":\"YG\",\"43679\":\"Malcolm Anthony\",\"15960\":\"SG Tip\",\"40897\":\"Joell B\",\"110212\":\"REASON\",\"49275\":\"Jose Guapo\",\"125047\":\"Gucci Mane\",\"211\":\"Money Man\",\"101642\":\"ScHoolboy Q\"},\"track_id\":{\"0\":\"2RM4jf1Xa9zPgMGRDiht8O\",\"123910\":\"0ZNrc4kNeQYD9koZ3KvCsy\",\"43679\":\"2BhNdsWlcpHeJGM85EjOlO\",\"15960\":\"31cZdDNDDvmPDfBUT1zYFf\",\"40897\":\"7bsBenFEDBYMkA5D0Bvwww\",\"110212\":\"274Dih3HQsnMt9aJputs7N\",\"49275\":\"4MifHoD1ugjZXg3uDDvEbH\",\"125047\":\"0sM8ktJMFE7yCY4sWucgyQ\",\"211\":\"2jCPVc4w44ZjcFDFsPy1i0\",\"101642\":\"4dTiQezDWmEOWcdCbWVWMp\"},\"track_name\":{\"0\":\"Big Bank feat. 2 Chainz, Big Sean, Nicki Minaj\",\"123910\":\"BIG BANK (feat. 2 Chainz, Big Sean, Nicki Minaj)\",\"43679\":\"My Town\",\"15960\":\"No Brain\",\"40897\":\"Trauma\",\"110212\":\"Bottom\",\"49275\":\"How to Get a Sack\",\"125047\":\"By Myself\",\"211\":\"Picky\",\"101642\":\"Numb Numb Juice\"}}'"
      ]
     },
     "execution_count": 76,
     "metadata": {},
     "output_type": "execute_result"
    }
   ],
   "source": [
    "y.iloc[recommendations].to_json()"
   ]
  },
  {
   "cell_type": "code",
   "execution_count": 77,
   "metadata": {},
   "outputs": [
    {
     "name": "stdout",
     "output_type": "stream",
     "text": [
      "<Response [200]>\n"
     ]
    }
   ],
   "source": [
    "import requests \n",
    "r_survey = requests.post(url, data)\n",
    "print(r_survey)"
   ]
  },
  {
   "cell_type": "code",
   "execution_count": 78,
   "metadata": {},
   "outputs": [
    {
     "name": "stdout",
     "output_type": "stream",
     "text": [
      "<Response [200]>\n"
     ]
    }
   ],
   "source": [
    "send_request = requests.post(url, data)\n",
    "print(send_request)"
   ]
  },
  {
   "cell_type": "code",
   "execution_count": 79,
   "metadata": {},
   "outputs": [
    {
     "name": "stdout",
     "output_type": "stream",
     "text": [
      "{'results': {'results': '            artist_name                track_id                                        track_name\\n0                    YG  2RM4jf1Xa9zPgMGRDiht8O    Big Bank feat. 2 Chainz, Big Sean, Nicki Minaj\\n123910               YG  0ZNrc4kNeQYD9koZ3KvCsy  BIG BANK (feat. 2 Chainz, Big Sean, Nicki Minaj)\\n43679   Malcolm Anthony  2BhNdsWlcpHeJGM85EjOlO                                           My Town\\n15960            SG Tip  31cZdDNDDvmPDfBUT1zYFf                                          No Brain\\n40897           Joell B  7bsBenFEDBYMkA5D0Bvwww                                            Trauma\\n110212           REASON  274Dih3HQsnMt9aJputs7N                                            Bottom\\n49275        Jose Guapo  4MifHoD1ugjZXg3uDDvEbH                                 How to Get a Sack\\n125047       Gucci Mane  0sM8ktJMFE7yCY4sWucgyQ                                         By Myself\\n211           Money Man  2jCPVc4w44ZjcFDFsPy1i0                                             Picky\\n101642      ScHoolboy Q  4dTiQezDWmEOWcdCbWVWMp                                   Numb Numb Juice'}}\n"
     ]
    }
   ],
   "source": [
    "print(send_request.json())"
   ]
  },
  {
   "cell_type": "markdown",
   "metadata": {},
   "source": [
    "## Test App in Heroku"
   ]
  },
  {
   "cell_type": "code",
   "execution_count": 16,
   "metadata": {},
   "outputs": [
    {
     "data": {
      "text/plain": [
       "'\"\\\\n{\\\\\"artist_name\\\\\":\\\\\"YG\\\\\",\\\\\"track_id\\\\\":\\\\\"2RM4jf1Xa9zPgMGRDiht8O\\\\\",\\\\n\\\\\"track_name\\\\\":\\\\\"Big Bank feat. 2 Chainz, Big Sean,Nicki Minaj\\\\\",\\\\n\\\\\"acousticness\\\\\":0.00582,\\\\\"danceability\\\\\":0.743,\\\\\"duration_ms\\\\\":238373,\\\\n\\\\\"energy\\\\\":0.339,\\\\\"instrumentalness\\\\\":0.0,\\\\\"key\\\\\":1,\\\\\"liveness\\\\\":0.0812,\\\\n\\\\\"loudness\\\\\":-7.678,\\\\\"mode\\\\\":1,\\\\\"speechiness\\\\\":0.409,\\\\\"tempo\\\\\":203.927,\\\\n\\\\\"time_signature\\\\\":4,\\\\\"valence\\\\\":0.118,\\\\\"popularity\\\\\":15}\\\\n\"'"
      ]
     },
     "execution_count": 16,
     "metadata": {},
     "output_type": "execute_result"
    }
   ],
   "source": [
    "# heroku url\n",
    "heroku_url = 'https://spotify-flask-model.herokuapp.com/' # change to your app name\n",
    "\n",
    "# test data\n",
    "data = \"\"\"\n",
    "{\"artist_name\":\"YG\",\"track_id\":\"2RM4jf1Xa9zPgMGRDiht8O\",\n",
    "\"track_name\":\"Big Bank feat. 2 Chainz, Big Sean,Nicki Minaj\",\n",
    "\"acousticness\":0.00582,\"danceability\":0.743,\"duration_ms\":238373,\n",
    "\"energy\":0.339,\"instrumentalness\":0.0,\"key\":1,\"liveness\":0.0812,\n",
    "\"loudness\":-7.678,\"mode\":1,\"speechiness\":0.409,\"tempo\":203.927,\n",
    "\"time_signature\":4,\"valence\":0.118,\"popularity\":15}\n",
    "\"\"\"\n",
    "\n",
    "data = json.dumps(data)\n",
    "data"
   ]
  },
  {
   "cell_type": "code",
   "execution_count": 17,
   "metadata": {},
   "outputs": [
    {
     "name": "stdout",
     "output_type": "stream",
     "text": [
      "<Response [200]>\n"
     ]
    }
   ],
   "source": [
    "# check response code\n",
    "r_survey = requests.post(heroku_url, data)\n",
    "print(r_survey)"
   ]
  },
  {
   "cell_type": "code",
   "execution_count": 19,
   "metadata": {},
   "outputs": [
    {
     "name": "stdout",
     "output_type": "stream",
     "text": [
      "{'results': {'results': '       artist_name                track_id                                        track_name\\n0               YG  2RM4jf1Xa9zPgMGRDiht8O    Big Bank feat. 2 Chainz, Big Sean, Nicki Minaj\\n123910          YG  0ZNrc4kNeQYD9koZ3KvCsy  BIG BANK (feat. 2 Chainz, Big Sean, Nicki Minaj)'}}\n"
     ]
    }
   ],
   "source": [
    "# get prediction\n",
    "print(send_request.json())"
   ]
  },
  {
   "cell_type": "code",
   "execution_count": null,
   "metadata": {},
   "outputs": [],
   "source": []
  }
 ],
 "metadata": {
  "kernelspec": {
   "display_name": "Python 3",
   "language": "python",
   "name": "python3"
  },
  "language_info": {
   "codemirror_mode": {
    "name": "ipython",
    "version": 3
   },
   "file_extension": ".py",
   "mimetype": "text/x-python",
   "name": "python",
   "nbconvert_exporter": "python",
   "pygments_lexer": "ipython3",
   "version": "3.7.4"
  }
 },
 "nbformat": 4,
 "nbformat_minor": 4
}
